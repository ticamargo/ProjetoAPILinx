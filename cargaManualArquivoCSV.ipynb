{
 "cells": [
  {
   "cell_type": "markdown",
   "metadata": {},
   "source": [
    "## API - LINXMOVIMENTO - CARGA DE DADOS - ORACLE"
   ]
  },
  {
   "cell_type": "markdown",
   "metadata": {},
   "source": [
    "##### coding: utf-8\n",
    "##### @Tiago de Camargo::\n",
    "### github - https://github.com/ticamargo\n",
    "### linkedin - https://www.linkedin.com/in/tiagodecamargo/"
   ]
  },
  {
   "cell_type": "code",
   "execution_count": null,
   "metadata": {},
   "outputs": [],
   "source": [
    "## IMPORTACAO DE PACOTES\n",
    "from unicodedata import normalize\n",
    "from datetime import datetime\n",
    "import pandas as pd\n",
    "import cx_Oracle\n",
    "import requests\n",
    "import warnings"
   ]
  },
  {
   "cell_type": "code",
   "execution_count": null,
   "metadata": {},
   "outputs": [],
   "source": [
    "## MOSTRAR COLUNAS DO DATAFRAME! FACILITA A VISUALIZACAO\n",
    "pd.set_option('display.max_columns', 80)\n",
    "warnings.simplefilter('ignore')"
   ]
  },
  {
   "cell_type": "code",
   "execution_count": null,
   "metadata": {
    "scrolled": false
   },
   "outputs": [],
   "source": [
    "## SELECIONAR O ARQUIVO PARA CARGA DE DADOS, NESTE CASO UM CSV\n",
    "dataframe = pd.read_csv('exemplo_dados.csv', sep=',', low_memory=False, dtype=str)"
   ]
  },
  {
   "cell_type": "code",
   "execution_count": null,
   "metadata": {},
   "outputs": [],
   "source": [
    "## CRIAR UM NOVO DATAFRAME DO DATAFRAME COM TODAS AS COLUNAS, SELECIONANDO APENAS AS COLUNAS QUE SERÃO UTILIZADAS\n",
    "df = dataframe[['portal','cnpj_emp','transacao','documento','chave_nf','ecf','numero_serie_ecf','modelo_nf','data_documento','data_lancamento','codigo_cliente','serie','desc_cfop','id_cfop','cod_vendedor','quantidade','preco_custo','valor_liquido','desconto','valor_total','total_dinheiro','total_cheque','total_cartao','total_crediario','total_convenio','operacao','tipo_transacao','cod_produto','cod_barra','cancelado','excluido','soma_relatorio','identificador','preco_unitario','hora_lancamento','natureza_operacao','cod_sefaz_situacao','desc_sefaz_situacao','protocolo_aut_nfe','total_cheque_prazo','cod_natureza_operacao','preco_tabela_epoca','desconto_total_item']]"
   ]
  },
  {
   "cell_type": "code",
   "execution_count": null,
   "metadata": {},
   "outputs": [],
   "source": [
    "## CCONTAGEM DO DATAFRAME\n",
    "df.count()"
   ]
  },
  {
   "cell_type": "code",
   "execution_count": null,
   "metadata": {},
   "outputs": [],
   "source": [
    "# REMOVER, SE HOUVER TRAÇOS NEGATIVOS EM VALOR_TOTAL\n",
    "df.loc[0:, 'valor_total'] = df['valor_total'].str.replace('-', '')"
   ]
  },
  {
   "cell_type": "code",
   "execution_count": null,
   "metadata": {},
   "outputs": [],
   "source": [
    "## LIMPAR CARACTERES DA COLUNA COD_NATUREZA_OPERACAO\n",
    "df.loc[0:, 'cod_natureza_operacao'] = df['cod_natureza_operacao'].str.strip()"
   ]
  },
  {
   "cell_type": "code",
   "execution_count": null,
   "metadata": {},
   "outputs": [],
   "source": [
    "## CARREGAR UMA LISTA COM O INDEX ONDE NA COLUNA COD_NATUREZA_OPERACAO = 1.201 - VALOR_TOTAL SERÁ NEGATIVO \n",
    "lista_devolucao = []\n",
    "for row in df.itertuples():\n",
    "    if row.cod_natureza_operacao == '1.201':\n",
    "        lista_devolucao.append(row.Index)"
   ]
  },
  {
   "cell_type": "code",
   "execution_count": null,
   "metadata": {},
   "outputs": [],
   "source": [
    "## TRANSFORMAR EM NEGATIVO VALOR_TOTAL E QUANTIDADE DA TUPLA LISTA_DEVOLUCAO\n",
    "df.loc[lista_devolucao, 'valor_total'] = df['valor_total'].map(lambda x: \"-{}\".format(x))\n",
    "df.loc[lista_devolucao, 'quantidade'] = df['quantidade'].map(lambda x: \"-{}\".format(x))"
   ]
  },
  {
   "cell_type": "code",
   "execution_count": null,
   "metadata": {},
   "outputs": [],
   "source": [
    "## PREENCHER VALORES NAN IDENTIFICADOS NO CONSUMO DA API\n",
    "values = {'chave_nf': ' ', 'numero_serie_ecf':' ', 'modelo_nf': '0','desc_cfop': ' ', 'id_cfop': '0', 'valor_total': '0', 'cod_barra': '0', 'cod_sefaz_situacao': '0', 'desc_sefaz_situacao': ' ', 'protocolo_aut_nfe': '0', 'desconto_total_item': '0'}\n",
    "df = df.fillna(value=values)"
   ]
  },
  {
   "cell_type": "code",
   "execution_count": null,
   "metadata": {},
   "outputs": [],
   "source": [
    "## RETIRANDO ACENTOS PARA TABELA ASCCI NAS COLUNAS\n",
    "df.loc[0:, 'desc_cfop'] = df['desc_cfop'].apply(lambda x: normalize('NFKD', x).encode('ascii', 'ignore').decode('ascii'))\n",
    "df.loc[0:, 'natureza_operacao'] = df['natureza_operacao'].apply(lambda x: normalize('NFKD', x).encode('ascii', 'ignore').decode('ascii'))"
   ]
  },
  {
   "cell_type": "code",
   "execution_count": null,
   "metadata": {},
   "outputs": [],
   "source": [
    "## FORMATAR DATAS PARA PADRAO CRIADO NA BASE DE DADOS\n",
    "df.loc[0:, 'data_documento'] = df['data_documento'].str.replace('-', '')\n",
    "df.loc[0:, 'data_lancamento'] = df['data_lancamento'].str.replace('-', '')"
   ]
  },
  {
   "cell_type": "code",
   "execution_count": null,
   "metadata": {},
   "outputs": [],
   "source": [
    "## FORMATAR DATAS PARA PADRAO CRIADO NA BASE DE DADOS\n",
    "df.loc[0:, 'data_documento'] = df['data_documento'].map(lambda d: \"{}\".format(d[0:8]))\n",
    "df.loc[0:, 'data_lancamento'] = df['data_lancamento'].map(lambda d: \"{}\".format(d[0:8]))"
   ]
  },
  {
   "cell_type": "code",
   "execution_count": null,
   "metadata": {},
   "outputs": [],
   "source": [
    "## CRIAR LISTA DE COLUNAS QUE DEVEM SER DO TIPO INT\n",
    "cols_int = ['portal','cnpj_emp','transacao','documento','ecf','modelo_nf','codigo_cliente','id_cfop','cod_vendedor','cod_produto','cod_barra','cod_sefaz_situacao','protocolo_aut_nfe']"
   ]
  },
  {
   "cell_type": "code",
   "execution_count": null,
   "metadata": {
    "scrolled": true
   },
   "outputs": [],
   "source": [
    "## CONVERTER PARA INT LISTA DE COLUNAS QUE DEVEM SER DO TIPO INT\n",
    "df[cols_int] = df[cols_int].apply(lambda x: pd.to_numeric(x.astype('int64'), errors='coerce'))"
   ]
  },
  {
   "cell_type": "code",
   "execution_count": null,
   "metadata": {
    "scrolled": true
   },
   "outputs": [],
   "source": [
    "## PERCORRER COLUNA QUANTIDADE, PRIMEIRO FLOAT, DEPOIS ROUND() DEPOIS INT\n",
    "df['quantidade'] = df['quantidade'].astype('float64', errors='ignore')\n",
    "df['quantidade'] = df['quantidade'].round()\n",
    "df['quantidade'] = df['quantidade'].astype('int64')"
   ]
  },
  {
   "cell_type": "code",
   "execution_count": null,
   "metadata": {},
   "outputs": [],
   "source": [
    "## CRIAR LISTA DE COLUNAS COLUNAS QUE DEVEM SER DO TIPO FLOAT\n",
    "cols_float = ['preco_custo','valor_liquido','desconto','valor_total','total_dinheiro','total_cheque','total_cartao','total_crediario','total_convenio','preco_unitario','total_cheque_prazo','preco_tabela_epoca','desconto_total_item']"
   ]
  },
  {
   "cell_type": "code",
   "execution_count": null,
   "metadata": {
    "scrolled": true
   },
   "outputs": [],
   "source": [
    "## VERIFICAR POR DADOS NAN NO DATAFRAME\n",
    "df.isnull().sum() != 0"
   ]
  },
  {
   "cell_type": "code",
   "execution_count": null,
   "metadata": {
    "scrolled": true
   },
   "outputs": [],
   "source": [
    "## VERIFICAR TIPOS DE DADOS DAS COLUNAS\n",
    "df.apply(lambda x: pd.api.types.infer_dtype(x.values))"
   ]
  },
  {
   "cell_type": "code",
   "execution_count": null,
   "metadata": {},
   "outputs": [],
   "source": [
    "## CONVERTER PARA FLOAT COLUNAS DE PREÇOS\n",
    "df[cols_float] = df[cols_float].apply(lambda x: pd.to_numeric(x.astype(str), errors='coerce'))"
   ]
  },
  {
   "cell_type": "code",
   "execution_count": null,
   "metadata": {},
   "outputs": [],
   "source": [
    "## MOSTRA O DATAFRAME\n",
    "df.head()"
   ]
  },
  {
   "cell_type": "code",
   "execution_count": null,
   "metadata": {},
   "outputs": [],
   "source": [
    "## CRIA UMA LISTA\n",
    "df_list = []"
   ]
  },
  {
   "cell_type": "code",
   "execution_count": null,
   "metadata": {},
   "outputs": [],
   "source": [
    "## LISTA CRIADA RECEBE DADOS DO DATAFRAME\n",
    "df_list = df.values.tolist()"
   ]
  },
  {
   "cell_type": "code",
   "execution_count": null,
   "metadata": {},
   "outputs": [],
   "source": [
    "## MOSTRA PRIMEIRO ITEM DA LISTA\n",
    "df_list[lista_devolucao[0]]"
   ]
  },
  {
   "cell_type": "code",
   "execution_count": null,
   "metadata": {},
   "outputs": [],
   "source": [
    "## MOSTRA TAMANHO DA LISTA\n",
    "print(len(df_list))"
   ]
  },
  {
   "cell_type": "code",
   "execution_count": null,
   "metadata": {},
   "outputs": [],
   "source": [
    "## STRING DE CONEXÃO ORACLE\n",
    "connect = cx_Oracle.connect('')"
   ]
  },
  {
   "cell_type": "code",
   "execution_count": null,
   "metadata": {
    "scrolled": false
   },
   "outputs": [],
   "source": [
    "## INSERIR NA BASE DE DADOS - METODO MATRIZ\n",
    "rows = df_list\n",
    "cursor = connect.cursor()\n",
    "cursor.bindarraysize = 43\n",
    "cursor.setinputsizes(int,int,int,int,200,int,50,int,8,8,int,50,300,int,int,int,float,float,float,float,\\\n",
    "                     float,float,float,float,float,2,1,int,int,1,1,1,50,float,8,50,int,50,int,float,15,float,float)\n",
    "statement = 'INSERT INTO DW_LINX (portal,cnpj_emp,transacao,documento,chave_nf,ecf,numero_serie_ecf,\\\n",
    "modelo_nf,data_documento,data_lancamento,codigo_cliente,serie,desc_cfop,id_cfop,cod_vendedor,quantidade,\\\n",
    "preco_custo,valor_liquido,desconto,valor_total,total_dinheiro,total_cheque,total_cartao,total_crediario,\\\n",
    "total_convenio,operacao,tipo_transacao,cod_produto,cod_barra,cancelado,excluido,soma_relatorio,identificador,\\\n",
    "preco_unitario,hora_lancamento,natureza_operacao,cod_sefaz_situaca,desc_sefaz_situacao,protocolo_aut_nfe,\\\n",
    "total_cheque_prazo,cod_natureza_operacao,preco_tabela_epoca,desconto_total_item) \\\n",
    "VALUES (:1,:2,:3,:4,:5,:6,:7,:8,:9,:10,:11,:12,:13,:14,:15,:16,:17,:18,:19,:20,:21,:22,:23,:24,\\\n",
    ":25,:26,:27,:28,:29,:30,:31,:32,:33,:34,:35,:36,:37,:38,:39,:40,:41,:42,:43)'\n",
    "for i in range(0, len(rows), 10000):\n",
    "    try:\n",
    "        cursor.executemany(statement, rows[i:i+10000])\n",
    "        connect.commit()\n",
    "        print('Range :::', i ,'Até:::', i+9999 ,'::: INSERIDO/COMMIT COM SUCESSO :::')\n",
    "    except cx_Oracle.DatabaseError as e:\n",
    "        errorObj, = e.args\n",
    "        print(\"NO RANGE \", i ,\"A LINHA \", cursor.rowcount, \"ESTÁ COM ERRO \", errorObj.message)\n",
    "        connect.rollback()\n",
    "        cursor.close()\n",
    "        connect.close()\n",
    "        break\n",
    "\n",
    "cursor.close()\n",
    "connect.close()\n",
    "print('Tudo OK!!')"
   ]
  }
 ],
 "metadata": {
  "kernelspec": {
   "display_name": "Python 3",
   "language": "python",
   "name": "python3"
  },
  "language_info": {
   "codemirror_mode": {
    "name": "ipython",
    "version": 3
   },
   "file_extension": ".py",
   "mimetype": "text/x-python",
   "name": "python",
   "nbconvert_exporter": "python",
   "pygments_lexer": "ipython3",
   "version": "3.7.3"
  }
 },
 "nbformat": 4,
 "nbformat_minor": 2
}
