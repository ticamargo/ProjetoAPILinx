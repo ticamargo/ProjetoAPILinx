{
 "cells": [
  {
   "cell_type": "markdown",
   "metadata": {},
   "source": [
    "## API - LINXMOVIMENTO - CONSUMO DE DADOS"
   ]
  },
  {
   "cell_type": "markdown",
   "metadata": {},
   "source": [
    "##### coding: utf-8\n",
    "##### @Tiago de Camargo::\n",
    "### github - https://github.com/ticamargo\n",
    "### linkedin - https://www.linkedin.com/in/tiagodecamargo/"
   ]
  },
  {
   "cell_type": "code",
   "execution_count": null,
   "metadata": {},
   "outputs": [],
   "source": [
    "## MOSTRAR COLUNAS DO DATAFRAME! FACILITA A VISUALIZACAO\n",
    "pd.set_option('display.max_columns', 80)\n",
    "warnings.simplefilter('ignore')"
   ]
  },
  {
   "cell_type": "code",
   "execution_count": null,
   "metadata": {},
   "outputs": [],
   "source": [
    "## IMPORTACAO DE PACOTES\n",
    "import xml.etree.ElementTree as et\n",
    "from unicodedata import normalize\n",
    "from datetime import timedelta, date\n",
    "import pandas as pd\n",
    "import cx_Oracle\n",
    "import requests"
   ]
  },
  {
   "cell_type": "code",
   "execution_count": null,
   "metadata": {},
   "outputs": [],
   "source": [
    "## VARIAVEIS\n",
    "df_cnpj = ['CNPJ','nome_empresa','id_empresas_rede','rede','portal','nome_portal','empresa']\n",
    "df_cols = ['portal','cnpj_emp','transacao','usuario','documento','chave_nf','ecf','numero_serie_ecf','modelo_nf','data_documento','data_lancamento','codigo_cliente','serie','desc_cfop','id_cfop','cod_vendedor','quantidade','preco_custo','valor_liquido','desconto','cst_icms','cst_pis','cst_cofins','cst_ipi','valor_icms','aliquota_icms','base_icms','valor_pis','aliquota_pis','base_pis','valor_cofins','aliquota_cofins','base_cofins','valor_icms_st','aliquota_icms_st','base_icms_st','valor_ipi','aliquota_ipi','base_ipi','valor_total','forma_dinheiro','total_dinheiro','forma_cheque','total_cheque','forma_cartao','total_cartao','forma_crediario','total_crediario','forma_convenio','total_convenio','frete','operacao','tipo_transacao','cod_produto','cod_barra','cancelado','excluido','soma_relatorio','identificador','deposito','obs','preco_unitario','hora_lancamento','natureza_operacao','tabela_preco','nome_tabela_preco','cod_sefaz_situacao','desc_sefaz_situacao','protocolo_aut_nfe','dt_update','forma_cheque_prazo','total_cheque_prazo','cod_natureza_operacao','preco_tabela_epoca','desconto_total_item','conferido']\n",
    "url = \"\"\n",
    "listacnpj_temp = []\n",
    "lista_cnpj = []\n",
    "lista_mov = []\n",
    "dados_cnpj = []\n",
    "filtro_tag = \"D\"\n",
    "ncols_cnpj = 7\n",
    "ncols_mov = 76\n",
    "dados_mov = []\n",
    "cnpj = ''"
   ]
  },
  {
   "cell_type": "code",
   "execution_count": null,
   "metadata": {},
   "outputs": [],
   "source": [
    "## SELECIONAR MANUALMENTE AS DATAS DE INICIO E FIM PARA CONSUMO DA API \n",
    "## DATA INICIAL - YYYY-MM-DD\n",
    "hoje = '2017-12-01'\n",
    "## DATA FINAL\n",
    "ontem = '2017-12-31'"
   ]
  },
  {
   "cell_type": "code",
   "execution_count": null,
   "metadata": {},
   "outputs": [],
   "source": [
    "## CONSULTANDO LISTA DE CNPJ VIA API LINXGRUPOLOJAS\n",
    "payload_lojas = \"<?xml version='1.0' encoding='ISO-8859-1'?> \\\n",
    "<LinxMicrovix> \\\n",
    "<Authentication user='' password=''/> \\\n",
    "<ResponseFormat>xml</ResponseFormat> \\\n",
    "<Command> \\\n",
    "<Name>LinxGrupoLojas</Name> \\\n",
    "<Parameters> \\\n",
    "<Parameter id='chave'></Parameter> \\\n",
    "<Parameter id='grupo'></Parameter> \\\n",
    "</Parameters> \\\n",
    "</Command> \\\n",
    "</LinxMicrovix>\"\n",
    "response = requests.request(\"POST\", url, data=payload_lojas)\n",
    "response.status_code\n",
    "root_cnpj = et.fromstring(response.content)"
   ]
  },
  {
   "cell_type": "code",
   "execution_count": null,
   "metadata": {},
   "outputs": [],
   "source": [
    "## TRANSFORMAR EM OBJETO ELEMENT TREE\n",
    "for child in root_cnpj.iter(filtro_tag):\n",
    "    listacnpj_temp.append(child.text)"
   ]
  },
  {
   "cell_type": "code",
   "execution_count": null,
   "metadata": {},
   "outputs": [],
   "source": [
    "## QUEBRAR EM SUBLISTAS COM TAMANHO DAS COLUNAS NCOLS_CNPJ\n",
    "for i in range(ncols_cnpj, len(listacnpj_temp), ncols_cnpj):\n",
    "    dados_cnpj.append(listacnpj_temp[i: i + ncols_cnpj])"
   ]
  },
  {
   "cell_type": "code",
   "execution_count": null,
   "metadata": {},
   "outputs": [],
   "source": [
    "## CRIAR DATAFRAME PARA ORGANIZAR E LIMPAR OS DADOS\n",
    "dataframe_cnpj = pd.DataFrame(dados_cnpj, columns=df_cnpj)"
   ]
  },
  {
   "cell_type": "code",
   "execution_count": null,
   "metadata": {},
   "outputs": [],
   "source": [
    "## ELIMINAR CNPJS DUPLICADOS VINDOS DA API LINXGRUPOLOJAS\n",
    "dataframe_cnpj.drop_duplicates(['CNPJ'], keep=\"last\", inplace=True)\n",
    "dataframe_cnpj = dataframe_cnpj.reset_index(drop=True)"
   ]
  },
  {
   "cell_type": "code",
   "execution_count": null,
   "metadata": {},
   "outputs": [],
   "source": [
    "## CRIAR LISTA COM OS CNPJS\n",
    "for i in dataframe_cnpj.index:\n",
    "    if dataframe_cnpj.loc[i, 'CNPJ'] != None:\n",
    "        lista_cnpj.append(dataframe_cnpj.loc[i,'CNPJ'])"
   ]
  },
  {
   "cell_type": "code",
   "execution_count": null,
   "metadata": {},
   "outputs": [],
   "source": [
    "## CHAMADA PARA CONSUMIR MOVIMENTAÇÕES DAS LOJAS - API LINXMOVIMENTO \n",
    "for i in range(len(lista_cnpj)):\n",
    "    cnpj = lista_cnpj[i].rstrip()\n",
    "    print(str(i+1) + ', '+ str(lista_cnpj[i]) +'')\n",
    "    payload = \"<?xml version='1.0' encoding='ISO-8859-1'?> \\\n",
    "    <LinxMicrovix> \\\n",
    "    <Authentication user='' password=''/> \\\n",
    "    <ResponseFormat>xml</ResponseFormat> \\\n",
    "    <Command> <Name>LinxMovimento</Name> \\\n",
    "    <Parameters> \\\n",
    "    <Parameter id='chave'></Parameter> \\\n",
    "    <Parameter id='cnpjEmp'>\"+cnpj+\"</Parameter> \\\n",
    "    <Parameter id='data_inicial'>\"+str(hoje)+\"</Parameter> \\\n",
    "    <Parameter id='data_fim'>\"+str(ontem)+\"</Parameter> \\\n",
    "    </Parameters> \\\n",
    "    </Command> \\\n",
    "    </LinxMicrovix>\"\n",
    "    response = requests.request(\"POST\", url, data=payload)\n",
    "    root = et.fromstring(response.content)\n",
    "    for child in root.iter(filtro_tag):\n",
    "        lista_mov.append(child.text)"
   ]
  },
  {
   "cell_type": "code",
   "execution_count": null,
   "metadata": {},
   "outputs": [],
   "source": [
    "## QUEBRAR EM SUBLISTAS COM TAMANHO DAS COLUNAS NCOLS_MOV\n",
    "for i in range(ncols_mov, len(lista_mov), ncols_mov):\n",
    "    dados_mov.append(lista_mov[i: i + ncols_mov])"
   ]
  },
  {
   "cell_type": "code",
   "execution_count": null,
   "metadata": {},
   "outputs": [],
   "source": [
    "## CRIAR DATAFRAME PARA ORGANIZAR E LIMPAR OS DADOS\n",
    "dataframe = pd.DataFrame(dados_mov, columns=df_cols)"
   ]
  },
  {
   "cell_type": "code",
   "execution_count": null,
   "metadata": {},
   "outputs": [],
   "source": [
    "## ELIMINA LINHAS CUJO STATUS DE PORTAL SEJA PORTAL ELIMINANDO ASSIM OS LINHAS QUE SÃO CABEÇALHOS\n",
    "## API ENVIA CABEÇALHOS A CADA CONSULTA DE CNPJ\n",
    "dataframe.drop(dataframe[dataframe.portal=='portal'].index, inplace=True)"
   ]
  },
  {
   "cell_type": "code",
   "execution_count": null,
   "metadata": {},
   "outputs": [],
   "source": [
    "## EXPORTAR PARA ARQUIVOCSV, CONFERENCIA E RETENÇÃO DOS DADOS\n",
    "print(str(ontem)+'_linxmovimento.csv')\n",
    "dataframe.to_csv(str(ontem)+'_linxmovimento.csv', index=False)"
   ]
  }
 ],
 "metadata": {
  "kernelspec": {
   "display_name": "Python 3",
   "language": "python",
   "name": "python3"
  },
  "language_info": {
   "codemirror_mode": {
    "name": "ipython",
    "version": 3
   },
   "file_extension": ".py",
   "mimetype": "text/x-python",
   "name": "python",
   "nbconvert_exporter": "python",
   "pygments_lexer": "ipython3",
   "version": "3.7.3"
  }
 },
 "nbformat": 4,
 "nbformat_minor": 2
}
